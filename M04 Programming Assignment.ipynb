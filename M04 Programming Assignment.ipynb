{
 "cells": [
  {
   "cell_type": "markdown",
   "id": "935aef42",
   "metadata": {},
   "source": [
    "11.1 Make a file called zoo.py. In it, define a function called hours that prints the string 'Open 9-5 daily'. Then, use the interactive interpreter to import the zoo module and call its hours function."
   ]
  },
  {
   "cell_type": "markdown",
   "id": "58f6d8f7",
   "metadata": {},
   "source": [
    "CREATE FILE zoo.py:"
   ]
  },
  {
   "cell_type": "code",
   "execution_count": 2,
   "id": "fcab3c56",
   "metadata": {},
   "outputs": [],
   "source": [
    "def hours():\n",
    "    print('Open 9-5 daily')"
   ]
  },
  {
   "cell_type": "code",
   "execution_count": null,
   "id": "f38dd8c6",
   "metadata": {},
   "outputs": [],
   "source": [
    ">>> import zoo\n",
    ">>> zoo.hours()"
   ]
  },
  {
   "cell_type": "markdown",
   "id": "51f3330c",
   "metadata": {},
   "source": [
    "11.2 In the interactive interpreter, import the zoo module as menagerie and call its hours() function."
   ]
  },
  {
   "cell_type": "code",
   "execution_count": null,
   "id": "57e4106f",
   "metadata": {},
   "outputs": [],
   "source": [
    ">>> import zoo as menagerie\n",
    ">>> menagerie.hours()\n",
    "Open 9-5 daily"
   ]
  },
  {
   "cell_type": "markdown",
   "id": "890ee224",
   "metadata": {},
   "source": [
    "16.8 Use the sqlalchemy module to connect to the sqlite3 database books.db that you just made in exercise 8.6. As in 8.8, select and print the title column from the book table in alphabetical order."
   ]
  },
  {
   "cell_type": "code",
   "execution_count": null,
   "id": "a18db9f2",
   "metadata": {},
   "outputs": [],
   "source": [
    ">>> import sqlalchemy\n",
    ">>> conn = sqlalchemy.create_engine('sqlite:///books.db')\n",
    ">>> sql = 'select title from book order by title asc'\n",
    ">>> rows = conn.execute(sql)\n",
    ">>> for row in rows:\n",
    "...     print(row)\n",
    "...\n",
    "('Perdido Street Station',)\n",
    "('Small Gods',)\n",
    "('The Spellman Files',)\n",
    "('The Weirdstone of Brisingamen',)\n",
    "('Thud!',)"
   ]
  }
 ],
 "metadata": {
  "kernelspec": {
   "display_name": "Python 3 (ipykernel)",
   "language": "python",
   "name": "python3"
  },
  "language_info": {
   "codemirror_mode": {
    "name": "ipython",
    "version": 3
   },
   "file_extension": ".py",
   "mimetype": "text/x-python",
   "name": "python",
   "nbconvert_exporter": "python",
   "pygments_lexer": "ipython3",
   "version": "3.10.6"
  }
 },
 "nbformat": 4,
 "nbformat_minor": 5
}
